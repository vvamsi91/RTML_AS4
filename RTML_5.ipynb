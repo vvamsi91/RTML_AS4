{
  "nbformat": 4,
  "nbformat_minor": 0,
  "metadata": {
    "colab": {
      "provenance": [],
      "gpuType": "T4",
      "authorship_tag": "ABX9TyMBk0AT+QkAHM+WFGZfdBqF",
      "include_colab_link": true
    },
    "kernelspec": {
      "name": "python3",
      "display_name": "Python 3"
    },
    "language_info": {
      "name": "python"
    },
    "accelerator": "GPU"
  },
  "cells": [
    {
      "cell_type": "markdown",
      "metadata": {
        "id": "view-in-github",
        "colab_type": "text"
      },
      "source": [
        "<a href=\"https://colab.research.google.com/github/vvamsi91/RTML_AS4/blob/main/RTML_5.ipynb\" target=\"_parent\"><img src=\"https://colab.research.google.com/assets/colab-badge.svg\" alt=\"Open In Colab\"/></a>"
      ]
    },
    {
      "cell_type": "code",
      "execution_count": 1,
      "metadata": {
        "id": "-ZcTmp7VTnrm"
      },
      "outputs": [],
      "source": [
        "import torch\n",
        "import torch.nn as nn\n",
        "import torch.optim as optim\n",
        "from torch.utils.data import DataLoader, Dataset"
      ]
    },
    {
      "cell_type": "code",
      "source": [
        "english_to_french = [\n",
        "    (\"I am cold\", \"J'ai froid\"),\n",
        "    (\"You are tired\", \"Tu es fatigué\"),\n",
        "    (\"He is hungry\", \"Il a faim\"),\n",
        "    (\"She is happy\", \"Elle est heureuse\"),\n",
        "    (\"We are friends\", \"Nous sommes amis\"),\n",
        "    (\"They are students\", \"Ils sont étudiants\"),\n",
        "    (\"The cat is sleeping\", \"Le chat dort\"),\n",
        "    (\"The sun is shining\", \"Le soleil brille\"),\n",
        "    (\"We love music\", \"Nous aimons la musique\"),\n",
        "    (\"She speaks French fluently\", \"Elle parle français couramment\"),\n",
        "    (\"He enjoys reading books\", \"Il aime lire des livres\"),\n",
        "    (\"They play soccer every weekend\", \"Ils jouent au football chaque week-end\"),\n",
        "    (\"The movie starts at 7 PM\", \"Le film commence à 19 heures\"),\n",
        "    (\"She wears a red dress\", \"Elle porte une robe rouge\"),\n",
        "    (\"We cook dinner together\", \"Nous cuisinons le dîner ensemble\"),\n",
        "    (\"He drives a blue car\", \"Il conduit une voiture bleue\"),\n",
        "    (\"They visit museums often\", \"Ils visitent souvent des musées\"),\n",
        "    (\"The restaurant serves delicious food\", \"Le restaurant sert une délicieuse cuisine\"),\n",
        "    (\"She studies mathematics at university\", \"Elle étudie les mathématiques à l'université\"),\n",
        "    (\"We watch movies on Fridays\", \"Nous regardons des films le vendredi\"),\n",
        "    (\"He listens to music while jogging\", \"Il écoute de la musique en faisant du jogging\"),\n",
        "    (\"They travel around the world\", \"Ils voyagent autour du monde\"),\n",
        "    (\"The book is on the table\", \"Le livre est sur la table\"),\n",
        "    (\"She dances gracefully\", \"Elle danse avec grâce\"),\n",
        "    (\"We celebrate birthdays with cake\", \"Nous célébrons les anniversaires avec un gâteau\"),\n",
        "    (\"He works hard every day\", \"Il travaille dur tous les jours\"),\n",
        "    (\"They speak different languages\", \"Ils parlent différentes langues\"),\n",
        "    (\"The flowers bloom in spring\", \"Les fleurs fleurissent au printemps\"),\n",
        "    (\"She writes poetry in her free time\", \"Elle écrit de la poésie pendant son temps libre\"),\n",
        "    (\"We learn something new every day\", \"Nous apprenons quelque chose de nouveau chaque jour\"),\n",
        "    (\"The dog barks loudly\", \"Le chien aboie bruyamment\"),\n",
        "    (\"He sings beautifully\", \"Il chante magnifiquement\"),\n",
        "    (\"They swim in the pool\", \"Ils nagent dans la piscine\"),\n",
        "    (\"The birds chirp in the morning\", \"Les oiseaux gazouillent le matin\"),\n",
        "    (\"She teaches English at school\", \"Elle enseigne l'anglais à l'école\"),\n",
        "    (\"We eat breakfast together\", \"Nous prenons le petit déjeuner ensemble\"),\n",
        "    (\"He paints landscapes\", \"Il peint des paysages\"),\n",
        "    (\"They laugh at the joke\", \"Ils rient de la blague\"),\n",
        "    (\"The clock ticks loudly\", \"L'horloge tic-tac bruyamment\"),\n",
        "    (\"She runs in the park\", \"Elle court dans le parc\"),\n",
        "    (\"We travel by train\", \"Nous voyageons en train\"),\n",
        "    (\"He writes a letter\", \"Il écrit une lettre\"),\n",
        "    (\"They read books at the library\", \"Ils lisent des livres à la bibliothèque\"),\n",
        "    (\"The baby cries\", \"Le bébé pleure\"),\n",
        "    (\"She studies hard for exams\", \"Elle étudie dur pour les examens\"),\n",
        "    (\"We plant flowers in the garden\", \"Nous plantons des fleurs dans le jardin\"),\n",
        "    (\"He fixes the car\", \"Il répare la voiture\"),\n",
        "    (\"They drink coffee in the morning\", \"Ils boivent du café le matin\"),\n",
        "    (\"The sun sets in the evening\", \"Le soleil se couche le soir\"),\n",
        "    (\"She dances at the party\", \"Elle danse à la fête\"),\n",
        "    (\"We play music at the concert\", \"Nous jouons de la musique au concert\"),\n",
        "    (\"He cooks dinner for his family\", \"Il cuisine le dîner pour sa famille\"),\n",
        "    (\"They study French grammar\", \"Ils étudient la grammaire française\"),\n",
        "    (\"The rain falls gently\", \"La pluie tombe doucement\"),\n",
        "    (\"She sings a song\", \"Elle chante une chanson\"),\n",
        "    (\"We watch a movie together\", \"Nous regardons un film ensemble\"),\n",
        "    (\"He sleeps deeply\", \"Il dort profondément\"),\n",
        "    (\"They travel to Paris\", \"Ils voyagent à Paris\"),\n",
        "    (\"The children play in the park\", \"Les enfants jouent dans le parc\"),\n",
        "    (\"She walks along the beach\", \"Elle se promène le long de la plage\"),\n",
        "    (\"We talk on the phone\", \"Nous parlons au téléphone\"),\n",
        "    (\"He waits for the bus\", \"Il attend le bus\"),\n",
        "    (\"They visit the Eiffel Tower\", \"Ils visitent la tour Eiffel\"),\n",
        "    (\"The stars twinkle at night\", \"Les étoiles scintillent la nuit\"),\n",
        "    (\"She dreams of flying\", \"Elle rêve de voler\"),\n",
        "    (\"We work in the office\", \"Nous travaillons au bureau\"),\n",
        "    (\"He studies history\", \"Il étudie l'histoire\"),\n",
        "    (\"They listen to the radio\", \"Ils écoutent la radio\"),\n",
        "    (\"The wind blows gently\", \"Le vent souffle doucement\"),\n",
        "    (\"She swims in the ocean\", \"Elle nage dans l'océan\"),\n",
        "    (\"We dance at the wedding\", \"Nous dansons au mariage\"),\n",
        "    (\"He climbs the mountain\", \"Il gravit la montagne\"),\n",
        "    (\"They hike in the forest\", \"Ils font de la randonnée dans la forêt\"),\n",
        "    (\"The cat meows loudly\", \"Le chat miaule bruyamment\"),\n",
        "    (\"She paints a picture\", \"Elle peint un tableau\"),\n",
        "    (\"We build a sandcastle\", \"Nous construisons un château de sable\"),\n",
        "    (\"He sings in the choir\", \"Il chante dans le chœur\")\n",
        "    ]"
      ],
      "metadata": {
        "id": "lFJ0MKNnU7MZ"
      },
      "execution_count": 3,
      "outputs": []
    },
    {
      "cell_type": "code",
      "source": [
        "# Special tokens for the start and end of sequences\n",
        "SOS_token = 0  # Start Of Sequence Token\n",
        "EOS_token = 1  # End Of Sequence Token\n",
        "max_length = 12\n"
      ],
      "metadata": {
        "id": "-yqubQDOVMDY"
      },
      "execution_count": 4,
      "outputs": []
    },
    {
      "cell_type": "code",
      "source": [
        "# Preparing the character to index mapping and vice versa for English and French\n",
        "def build_vocab(sentences):\n",
        "    vocab = set()\n",
        "    for pair in sentences:\n",
        "        english_sentence, french_sentence = pair\n",
        "        for word in english_sentence.split():\n",
        "            vocab.add(word)\n",
        "        for word in french_sentence.split():\n",
        "            vocab.add(word)\n",
        "    return vocab\n",
        "\n",
        "eng_vocab = build_vocab(english_to_french)\n",
        "french_vocab = eng_vocab  # Assuming French and English have the same vocabulary\n",
        "\n",
        "char_to_index_english = {\"SOS\": SOS_token, \"EOS\": EOS_token, **{char: i+2 for i, char in enumerate(sorted(list(eng_vocab)))}}\n",
        "index_to_char_english = {i: char for char, i in char_to_index_english.items()}\n",
        "\n",
        "char_to_index_french = {\"SOS\": SOS_token, \"EOS\": EOS_token, **{char: i+2 for i, char in enumerate(sorted(list(french_vocab)))}}\n",
        "index_to_char_french = {i: char for char, i in char_to_index_french.items()}"
      ],
      "metadata": {
        "id": "8pfNaaAHVHNo"
      },
      "execution_count": 5,
      "outputs": []
    },
    {
      "cell_type": "code",
      "source": [
        "class EnglishFrenchDataset(Dataset):\n",
        "    \"\"\"Custom Dataset class for handling English-French sentence pairs.\"\"\"\n",
        "    def __init__(self, dataset, char_to_index_english, char_to_index_french):\n",
        "        self.dataset = dataset\n",
        "        self.char_to_index_english = char_to_index_english\n",
        "        self.char_to_index_french = char_to_index_french\n",
        "\n",
        "    def __len__(self):\n",
        "        return len(self.dataset)\n",
        "\n",
        "    def __getitem__(self, idx):\n",
        "        english_sentence, french_sentence = self.dataset[idx]\n",
        "        eng_tensor = torch.tensor([self.char_to_index_english[word] for word in english_sentence.split()] + [EOS_token], dtype=torch.long)\n",
        "        french_tensor = torch.tensor([self.char_to_index_french[word] for word in french_sentence.split()] + [EOS_token], dtype=torch.long)\n",
        "        return eng_tensor, french_tensor\n",
        "\n",
        "english_french_dataset = EnglishFrenchDataset(english_to_french, char_to_index_english, char_to_index_french)\n",
        "dataloader = DataLoader(english_french_dataset, batch_size=1, shuffle=True)\n",
        "\n",
        "class Encoder(nn.Module):\n",
        "    \"\"\"Encoder that processes the input sequence and returns its hidden states.\"\"\"\n",
        "    def __init__(self, input_size, hidden_size):\n",
        "        super(Encoder, self).__init__()\n",
        "        self.hidden_size = hidden_size\n",
        "        self.embedding = nn.Embedding(input_size, hidden_size)\n",
        "        self.lstm = nn.LSTM(hidden_size, hidden_size)\n",
        "\n",
        "    def forward(self, input, hidden):\n",
        "        embedded = self.embedding(input).view(1, 1, -1)\n",
        "        output, hidden = self.lstm(embedded, hidden)\n",
        "        return output, hidden\n",
        "\n",
        "    def initHidden(self):\n",
        "        return (torch.zeros(1, 1, self.hidden_size, device=device),\n",
        "                torch.zeros(1, 1, self.hidden_size, device=device))"
      ],
      "metadata": {
        "id": "kC22O0ynVp_a"
      },
      "execution_count": 6,
      "outputs": []
    },
    {
      "cell_type": "code",
      "source": [
        "class Decoder(nn.Module):\n",
        "    \"\"\"Decoder without attention mechanism.\"\"\"\n",
        "    def __init__(self, hidden_size, output_size):\n",
        "        super(Decoder, self).__init__()\n",
        "        self.hidden_size = hidden_size\n",
        "        self.output_size = output_size\n",
        "\n",
        "        # Define layers\n",
        "        self.embedding = nn.Embedding(self.output_size, self.hidden_size)\n",
        "        self.lstm = nn.LSTM(self.hidden_size, self.hidden_size)\n",
        "        self.out = nn.Linear(self.hidden_size, self.output_size)\n",
        "\n",
        "    def forward(self, input, hidden):\n",
        "        # Forward pass\n",
        "        embedded = self.embedding(input).view(1, 1, -1)\n",
        "        output, hidden = self.lstm(embedded, hidden)\n",
        "        output = torch.log_softmax(self.out(output[0]), dim=1)\n",
        "        return output, hidden\n",
        "\n",
        "    def initHidden(self):\n",
        "        # Initialize hidden state\n",
        "        return (torch.zeros(1, 1, self.hidden_size, device=device),\n",
        "                torch.zeros(1, 1, self.hidden_size, device=device))\n",
        "\n",
        "device = torch.device(\"cuda\" if torch.cuda.is_available() else \"cpu\")\n",
        "\n",
        "\n",
        "\n",
        "\n"
      ],
      "metadata": {
        "id": "7nWcPZKwVu4M"
      },
      "execution_count": 7,
      "outputs": []
    },
    {
      "cell_type": "code",
      "source": [
        "learning_rate = 0.01\n",
        "\n",
        "# Define loss function\n",
        "criterion = nn.NLLLoss()\n",
        "\n",
        "# Define encoder and decoder models\n",
        "encoder_eng = Encoder(input_size=len(char_to_index_english), hidden_size=256).to(device)\n",
        "decoder_french = Decoder(hidden_size=256, output_size=len(char_to_index_french)).to(device)\n",
        "\n",
        "# Define optimizers for encoder and decoder\n",
        "encoder_optimizer = optim.SGD(encoder_eng.parameters(), lr=learning_rate)\n",
        "decoder_optimizer = optim.SGD(decoder_french.parameters(), lr=learning_rate)"
      ],
      "metadata": {
        "id": "F3uy2j57V682"
      },
      "execution_count": 8,
      "outputs": []
    },
    {
      "cell_type": "code",
      "source": [
        "def train(input_tensor, target_tensor, encoder, decoder, encoder_optimizer, decoder_optimizer, criterion, max_length=12):\n",
        "    # Initialize encoder hidden state\n",
        "    encoder_hidden = encoder.initHidden()\n",
        "\n",
        "    # Zero the gradients\n",
        "    encoder_optimizer.zero_grad()\n",
        "    decoder_optimizer.zero_grad()\n",
        "\n",
        "    # Get input and target tensor lengths\n",
        "    input_length = input_tensor.size(0)\n",
        "    target_length = target_tensor.size(0)\n",
        "\n",
        "    # Initialize encoder outputs\n",
        "    encoder_outputs = torch.zeros(max_length, encoder.hidden_size, device=device)\n",
        "\n",
        "    # Initialize loss\n",
        "    loss = 0\n",
        "\n",
        "    # Encoder forward pass\n",
        "    for ei in range(input_length):\n",
        "        encoder_output, encoder_hidden = encoder(input_tensor[ei].unsqueeze(0), encoder_hidden)\n",
        "        encoder_outputs[ei] = encoder_output[0, 0]\n",
        "\n",
        "    # Initialize decoder input with SOS token\n",
        "    decoder_input = torch.tensor([[SOS_token]], device=device)\n",
        "    decoder_hidden = encoder_hidden\n",
        "\n",
        "    # Decoder forward pass\n",
        "    for di in range(target_length):\n",
        "        decoder_output, decoder_hidden = decoder(decoder_input, decoder_hidden)\n",
        "        topv, topi = decoder_output.topk(1)\n",
        "        decoder_input = topi.squeeze().detach()\n",
        "\n",
        "        # Calculate loss\n",
        "        loss += criterion(decoder_output, target_tensor[di].unsqueeze(0))\n",
        "        if decoder_input.item() == EOS_token:\n",
        "            break\n",
        "\n",
        "    # Backpropagation\n",
        "    loss.backward()\n",
        "\n",
        "    # Update encoder and decoder parameters\n",
        "    encoder_optimizer.step()\n",
        "    decoder_optimizer.step()\n",
        "\n",
        "    # Return loss normalized by target length\n",
        "    return loss.item() / target_length\n"
      ],
      "metadata": {
        "id": "ZbO30O7AWb9h"
      },
      "execution_count": 9,
      "outputs": []
    },
    {
      "cell_type": "code",
      "source": [
        "n_epochs = 100\n",
        "\n",
        "for epoch in range(n_epochs):\n",
        "    total_loss = 0\n",
        "\n",
        "    # Iterate over data loader\n",
        "    for input_tensor_english, target_tensor_french in dataloader:\n",
        "        # Move tensors to device\n",
        "        input_tensor_english = input_tensor_english[0].to(device)\n",
        "        target_tensor_french = target_tensor_french[0].to(device)\n",
        "\n",
        "        # Calculate loss and accumulate\n",
        "        loss = train(input_tensor_english, target_tensor_french, encoder_eng, decoder_french, encoder_optimizer, decoder_optimizer, criterion)\n",
        "        total_loss += loss\n",
        "\n",
        "    # Print average loss for the epoch\n",
        "    if epoch % 10 == 0:\n",
        "        print(f'Epoch {epoch}, Loss: {total_loss / len(dataloader)}')\n"
      ],
      "metadata": {
        "colab": {
          "base_uri": "https://localhost:8080/"
        },
        "id": "stYoYGzhWmlX",
        "outputId": "e163c5b0-a128-4887-c9f8-17499736c3d3"
      },
      "execution_count": 10,
      "outputs": [
        {
          "output_type": "stream",
          "name": "stdout",
          "text": [
            "Epoch 0, Loss: 4.345276063959566\n",
            "Epoch 10, Loss: 3.0374758589171886\n",
            "Epoch 20, Loss: 2.3574914854744056\n",
            "Epoch 30, Loss: 1.6981786814111457\n",
            "Epoch 40, Loss: 0.8688406137124062\n",
            "Epoch 50, Loss: 0.2560138713973155\n",
            "Epoch 60, Loss: 0.10958415959095665\n",
            "Epoch 70, Loss: 0.052953560691510394\n",
            "Epoch 80, Loss: 0.03654021378940613\n",
            "Epoch 90, Loss: 0.027158333293992237\n"
          ]
        }
      ]
    },
    {
      "cell_type": "code",
      "source": [
        "def evaluate_and_display_examples(encoder, decoder, dataloader, criterion, n_examples=5):\n",
        "    encoder.eval()\n",
        "    decoder.eval()\n",
        "\n",
        "    total_loss = 0\n",
        "    total_sentences = 0\n",
        "    correct_predictions = 0\n",
        "\n",
        "    with torch.no_grad():\n",
        "        for i, (input_tensor_english, target_tensor_french) in enumerate(dataloader):\n",
        "            input_tensor_english = input_tensor_english[0].to(device)\n",
        "            target_tensor_french = target_tensor_french[0].to(device)\n",
        "\n",
        "            encoder_hidden = encoder.initHidden()\n",
        "            input_length = input_tensor_english.size(0)\n",
        "            target_length = target_tensor_french.size(0)\n",
        "\n",
        "            encoder_outputs = torch.zeros(max_length, encoder.hidden_size, device=device)\n",
        "\n",
        "            loss = 0\n",
        "\n",
        "            for ei in range(input_length):\n",
        "                encoder_output, encoder_hidden = encoder(input_tensor_english[ei].unsqueeze(0), encoder_hidden)\n",
        "                encoder_outputs[ei] = encoder_output[0, 0]\n",
        "\n",
        "            decoder_input = torch.tensor([[SOS_token]], device=device)\n",
        "            decoder_hidden = encoder_hidden\n",
        "\n",
        "            predicted_indices = []\n",
        "\n",
        "            for di in range(target_length):\n",
        "                decoder_output, decoder_hidden = decoder(decoder_input, decoder_hidden)\n",
        "                topv, topi = decoder_output.topk(1)\n",
        "                predicted_indices.append(topi.item())\n",
        "                decoder_input = topi.squeeze().detach()\n",
        "\n",
        "                loss += criterion(decoder_output, target_tensor_french[di].unsqueeze(0))\n",
        "                if decoder_input.item() == EOS_token:\n",
        "                    break\n",
        "\n",
        "            total_loss += loss.item() / target_length\n",
        "            total_sentences += 1\n",
        "\n",
        "            if predicted_indices == target_tensor_french.tolist():\n",
        "                correct_predictions += 1\n",
        "\n",
        "            if i < n_examples:\n",
        "                predicted_string = ' '.join([index_to_char_french[index] for index in predicted_indices if index not in (SOS_token, EOS_token)])\n",
        "                target_string = ' '.join([index_to_char_french[index.item()] for index in target_tensor_french if index.item() not in (SOS_token, EOS_token)])\n",
        "                input_string = ' '.join([index_to_char_english[index.item()] for index in input_tensor_english if index.item() not in (SOS_token, EOS_token)])\n",
        "\n",
        "                print(f'Input: {input_string}, Target: {target_string}, Predicted: {predicted_string}')\n",
        "\n",
        "        average_loss = total_loss / len(dataloader)\n",
        "        accuracy = correct_predictions / total_sentences\n",
        "        print(f'Evaluation Loss: {average_loss}, Accuracy: {accuracy}')\n"
      ],
      "metadata": {
        "id": "XotmQ1bOX6Vr"
      },
      "execution_count": 12,
      "outputs": []
    },
    {
      "cell_type": "code",
      "source": [
        "#evaluation\n",
        "evaluate_and_show_examples(encoder_eng, decoder_french, dataloader, criterion)"
      ],
      "metadata": {
        "colab": {
          "base_uri": "https://localhost:8080/"
        },
        "id": "6Qed2T7NX8_L",
        "outputId": "e7d8422e-c506-4f0d-bee2-f70d656e8c26"
      },
      "execution_count": 16,
      "outputs": [
        {
          "output_type": "stream",
          "name": "stdout",
          "text": [
            "Input: The sun sets in the evening, Target: Le soleil se couche le soir, Predicted: Le soleil se couche le soir\n",
            "Input: The book is on the table, Target: Le livre est sur la table, Predicted: Le livre est sur la table\n",
            "Input: The clock ticks loudly, Target: L'horloge tic-tac bruyamment, Predicted: L'horloge tic-tac bruyamment\n",
            "Input: She studies hard for exams, Target: Elle étudie dur pour les examens, Predicted: Elle étudie dur pour les examens\n",
            "Input: They study French grammar, Target: Ils étudient la grammaire française, Predicted: Ils étudient la grammaire française\n",
            "Evaluation Loss: 0.021512202980732868, Accuracy: 1.0\n"
          ]
        }
      ]
    }
  ]
}